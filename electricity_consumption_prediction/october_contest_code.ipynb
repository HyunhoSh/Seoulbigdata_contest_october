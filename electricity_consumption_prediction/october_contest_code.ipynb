{
  "nbformat": 4,
  "nbformat_minor": 0,
  "metadata": {
    "colab": {
      "name": "october_contest_code.ipynb",
      "private_outputs": true,
      "provenance": [],
      "collapsed_sections": []
    },
    "kernelspec": {
      "name": "python3",
      "display_name": "Python 3"
    },
    "language_info": {
      "name": "python"
    }
  },
  "cells": [
    {
      "cell_type": "code",
      "metadata": {
        "id": "_xwAKUtHWfzG"
      },
      "source": [
        "!sudo apt-get install -y fonts-nanum\n",
        "!sudo fc-cache -fv\n",
        "!rm ~/.cache/matplotlib -rf"
      ],
      "execution_count": null,
      "outputs": []
    },
    {
      "cell_type": "markdown",
      "metadata": {
        "id": "_T6CpUlbTw4U"
      },
      "source": [
        "# 한국 전기소비량 예측 그래프"
      ]
    },
    {
      "cell_type": "code",
      "metadata": {
        "id": "TscWjSPUNjSy"
      },
      "source": [
        "import pandas as pd\n",
        "import seaborn as sns\n",
        "import matplotlib.pyplot as plt\n",
        "import numpy as np\n",
        "plt.rc('axes', unicode_minus=False)\n",
        "plt.rc('font', family='NanumGothic')\n",
        "\n",
        "elec_new = pd.read_csv('https://raw.githubusercontent.com/HyunhoSh/Seoul_bigdata_contest/main/folium_map/elec_con_hi.csv', encoding = 'cp949',names = ['ds','y'])\n",
        "elec_new"
      ],
      "execution_count": null,
      "outputs": []
    },
    {
      "cell_type": "code",
      "metadata": {
        "id": "WK2IilMVNsCf"
      },
      "source": [
        "elec_new_=elec_new.drop(index=0,axis=0)"
      ],
      "execution_count": null,
      "outputs": []
    },
    {
      "cell_type": "code",
      "metadata": {
        "id": "zujiayhaNw9H"
      },
      "source": [
        "elec_new__=elec_new_.reset_index()\n",
        "elec_new__"
      ],
      "execution_count": null,
      "outputs": []
    },
    {
      "cell_type": "code",
      "metadata": {
        "id": "hzBWS2VnNyay"
      },
      "source": [
        "elec_newnew = elec_new__.drop(columns=['index'],axis=1)\n",
        "elec_newnew"
      ],
      "execution_count": null,
      "outputs": []
    },
    {
      "cell_type": "code",
      "metadata": {
        "id": "ijzaNW7nN066"
      },
      "source": [
        "from pystan import StanModel\n",
        "from fbprophet import Prophet"
      ],
      "execution_count": null,
      "outputs": []
    },
    {
      "cell_type": "code",
      "metadata": {
        "id": "9yhpRKJaN3oC"
      },
      "source": [
        "m = Prophet()\n",
        "m.fit(elec_newnew)"
      ],
      "execution_count": null,
      "outputs": []
    },
    {
      "cell_type": "code",
      "metadata": {
        "id": "386sfl_WN5jP"
      },
      "source": [
        "future_data = m.make_future_dataframe(periods=10,freq='Y')\n",
        "\n",
        "plt.rc('axes', unicode_minus=False)\n",
        "plt.rc('font', family='NanumGothic')\n",
        "\n",
        "forecast_data = m.predict(future_data)\n",
        "fig1 = m.plot(forecast_data,xlabel='년도',ylabel='전기소비량')"
      ],
      "execution_count": null,
      "outputs": []
    },
    {
      "cell_type": "markdown",
      "metadata": {
        "id": "3um2XQ8VVFtN"
      },
      "source": [
        "# 종로구 전기사용량"
      ]
    },
    {
      "cell_type": "code",
      "metadata": {
        "id": "hHhBPVLHOlaj"
      },
      "source": [
        "elec_jongro = pd.read_csv('https://raw.githubusercontent.com/HyunhoSh/Seoul_bigdata_contest/main/folium_map/%EC%A2%85%EB%A1%9C%EA%B5%AC_2011_2020_%EC%A0%84%EA%B8%B0%EC%82%AC%EC%9A%A9%EB%9F%89.csv',encoding='utf-8',names = ['ds','y'])\n",
        "elec_jongro"
      ],
      "execution_count": null,
      "outputs": []
    },
    {
      "cell_type": "code",
      "metadata": {
        "id": "dayxeUaYVFcw"
      },
      "source": [
        "jongro_new_=elec_jongro.drop(index=0,axis=0)\n",
        "jongro_new__=jongro_new_.reset_index()\n",
        "jongro_new__"
      ],
      "execution_count": null,
      "outputs": []
    },
    {
      "cell_type": "code",
      "metadata": {
        "id": "czdQRRxHVFNW"
      },
      "source": [
        "jongro_newnew = jongro_new__.drop(columns=['index'],axis=1)\n",
        "jongro_newnew"
      ],
      "execution_count": null,
      "outputs": []
    },
    {
      "cell_type": "code",
      "metadata": {
        "id": "eSjQv6jjVqZE"
      },
      "source": [
        "jongro_m = Prophet()\n",
        "jongro_m.fit(jongro_newnew)"
      ],
      "execution_count": null,
      "outputs": []
    },
    {
      "cell_type": "code",
      "metadata": {
        "id": "qAJfVholVxyk"
      },
      "source": [
        "future_data_jongro = jongro_m.make_future_dataframe(periods=10, freq='A')\n",
        "plt.rc('axes', unicode_minus=False)\n",
        "plt.rc('font', family='NanumGothic')\n",
        "\n",
        "forecast_data_jongro = jongro_m.predict(future_data_jongro)\n",
        "fig1 = jongro_m.plot(forecast_data_jongro,xlabel='연도',ylabel='전기소비량')\n",
        "plt.title('종로구')"
      ],
      "execution_count": null,
      "outputs": []
    },
    {
      "cell_type": "markdown",
      "metadata": {
        "id": "vFl70pd3asog"
      },
      "source": [
        "# 중구"
      ]
    },
    {
      "cell_type": "code",
      "metadata": {
        "id": "QvJd91l2V4lD"
      },
      "source": [
        "elec_junggu = pd.read_csv('https://raw.githubusercontent.com/HyunhoSh/Seoul_bigdata_contest/main/folium_map/%EC%A4%91%EA%B5%AC_2011_2020_%EC%A0%84%EA%B8%B0%EC%82%AC%EC%9A%A9%EB%9F%89.csv',encoding='utf-8',names = ['ds','y'])\n",
        "elec_junggu"
      ],
      "execution_count": null,
      "outputs": []
    },
    {
      "cell_type": "code",
      "metadata": {
        "id": "ZjbDLemoasHc"
      },
      "source": [
        "junggu_m = Prophet()\n",
        "junggu_m.fit(elec_junggu)"
      ],
      "execution_count": null,
      "outputs": []
    },
    {
      "cell_type": "code",
      "metadata": {
        "id": "RvADE6sFbG2J"
      },
      "source": [
        "future_data_junggu = junggu_m.make_future_dataframe(periods=10, freq='A')\n",
        "plt.rc('axes', unicode_minus=False)\n",
        "plt.rc('font', family='NanumGothic')\n",
        "\n",
        "forecast_data_junggu = junggu_m.predict(future_data_junggu)\n",
        "fig1 = junggu_m.plot(forecast_data_junggu,xlabel='연도',ylabel='전기소비량')\n",
        "plt.title('중구')"
      ],
      "execution_count": null,
      "outputs": []
    },
    {
      "cell_type": "markdown",
      "metadata": {
        "id": "FQHFRu4QeO1T"
      },
      "source": [
        "# 용산구"
      ]
    },
    {
      "cell_type": "code",
      "metadata": {
        "id": "FQlvgV1AbYzz"
      },
      "source": [
        "elec_yongsangu = pd.read_csv('https://raw.githubusercontent.com/HyunhoSh/Seoul_bigdata_contest/main/folium_map/%EC%9A%A9%EC%82%B0%EA%B5%AC_2011_2020_%EC%A0%84%EA%B8%B0%EC%82%AC%EC%9A%A9%EB%9F%89.csv',encoding='utf-8',names = ['ds','y'])\n",
        "elec_yongsangu"
      ],
      "execution_count": null,
      "outputs": []
    },
    {
      "cell_type": "code",
      "metadata": {
        "id": "5i2W90LieZZZ"
      },
      "source": [
        "yongsangu_m = Prophet()\n",
        "yongsangu_m.fit(elec_yongsangu)"
      ],
      "execution_count": null,
      "outputs": []
    },
    {
      "cell_type": "code",
      "metadata": {
        "id": "NRpWt2LwefJE"
      },
      "source": [
        "future_data_yongsangu = yongsangu_m.make_future_dataframe(periods=10, freq='A')\n",
        "forecast_data_yongsangu = yongsangu_m.predict(future_data_yongsangu)\n",
        "fig1 = yongsangu_m.plot(forecast_data_yongsangu,xlabel='연도',ylabel='전기소비량')\n",
        "plt.title('용신구')"
      ],
      "execution_count": null,
      "outputs": []
    },
    {
      "cell_type": "markdown",
      "metadata": {
        "id": "a-WbKHyAMSNE"
      },
      "source": [
        "# 성동구 전기사용량"
      ]
    },
    {
      "cell_type": "code",
      "metadata": {
        "id": "RdhGKXV5exra"
      },
      "source": [
        "elec_seongdonggu = pd.read_csv('https://raw.githubusercontent.com/HyunhoSh/Seoul_bigdata_contest/main/folium_map/%EC%84%B1%EB%8F%99%EA%B5%AC_2011_2020.csv',encoding='utf-8',names = ['ds','y'])\n",
        "elec_seongdonggu"
      ],
      "execution_count": null,
      "outputs": []
    },
    {
      "cell_type": "code",
      "metadata": {
        "id": "TxoKtOhzg2Dy"
      },
      "source": [
        "seongdonggu_m = Prophet()\n",
        "seongdonggu_m.fit(elec_seongdonggu)"
      ],
      "execution_count": null,
      "outputs": []
    },
    {
      "cell_type": "code",
      "metadata": {
        "id": "j0RzZwPNg8S7"
      },
      "source": [
        "future_data_seongdonggu = seongdonggu_m.make_future_dataframe(periods=10, freq='A')\n",
        "forecast_data_seongdonggu = seongdonggu_m.predict(future_data_seongdonggu)\n",
        "fig1 = seongdonggu_m.plot(forecast_data_seongdonggu,xlabel='연도',ylabel='전기소비량')\n",
        "plt.title('성동구')"
      ],
      "execution_count": null,
      "outputs": []
    },
    {
      "cell_type": "code",
      "metadata": {
        "id": "HwNIvYpZmHFo"
      },
      "source": [
        ""
      ],
      "execution_count": null,
      "outputs": []
    }
  ]
}